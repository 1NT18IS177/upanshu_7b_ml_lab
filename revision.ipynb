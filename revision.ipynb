{
 "cells": [
  {
   "cell_type": "code",
   "execution_count": 9,
   "metadata": {},
   "outputs": [
    {
     "data": {
      "text/plain": [
       "[5, 7, 9]"
      ]
     },
     "execution_count": 9,
     "metadata": {},
     "output_type": "execute_result"
    }
   ],
   "source": [
    "# Add elements of 2 lists\n",
    "ls1 = [1, 2, 3]\n",
    "ls2 = [4, 5, 6]\n",
    "ls3 = []\n",
    "for i in range(len(ls1)):\n",
    "    ls3.append(ls1[i] + ls2[i])\n",
    "    \n",
    "ls3"
   ]
  },
  {
   "cell_type": "code",
   "execution_count": 10,
   "metadata": {},
   "outputs": [
    {
     "name": "stdout",
     "output_type": "stream",
     "text": [
      "Enter the operation: 4\n",
      "Enter 1st operand: 5\n",
      "Enter 2nd operand: 6\n",
      "Invalid Operation\n"
     ]
    }
   ],
   "source": [
    "# Simple Calculator\n",
    "operation = input('Enter the operation: ')\n",
    "op1 = float(input('Enter 1st operand: '))\n",
    "op2 = float(input('Enter 2nd operand: '))\n",
    "\n",
    "if operation == \"+\":\n",
    "    print(op1 + op2)\n",
    "elif operation == \"-\":\n",
    "    print(op1 - op2)\n",
    "elif operation == \"*\":\n",
    "    print(op1 * op)\n",
    "elif operation == \"/\":\n",
    "    if op2 == 0:\n",
    "        print('Cannot Divide by Zero')\n",
    "    else:\n",
    "        print(op1 / op2)\n",
    "else:\n",
    "    print('Invalid Operation')"
   ]
  },
  {
   "cell_type": "code",
   "execution_count": 14,
   "metadata": {},
   "outputs": [
    {
     "name": "stdout",
     "output_type": "stream",
     "text": [
      "[1, 2, 3, 4, 5, 7, 8, 9]\n"
     ]
    }
   ],
   "source": [
    "# Bubble Sort\n",
    "list = [4,8,1,5,2,7,9,3]\n",
    "\n",
    "def bsort(list):\n",
    "    for i in range(0, len(list)):\n",
    "        for j in range(i, len(list)):\n",
    "            if list[i]>list[j]:\n",
    "                temp = list[i]\n",
    "                list[i] = list[j]\n",
    "                list[j] = temp\n",
    "    return list\n",
    "\n",
    "print(bsort(list))"
   ]
  },
  {
   "cell_type": "code",
   "execution_count": 29,
   "metadata": {},
   "outputs": [
    {
     "name": "stdout",
     "output_type": "stream",
     "text": [
      "Mean: 4.473684210526316\n",
      "Median: 5\n",
      "Mode: 5\n"
     ]
    }
   ],
   "source": [
    "# Mean, Median, Mode\n",
    "data = [1,2,3,4,5,6,7,8,9,1,3,5,5,2,4,5,8,1,6]\n",
    "mean = 0\n",
    "median = 0\n",
    "mode = 0\n",
    "\n",
    "sort_data = bsort(data)\n",
    "long = len(data)\n",
    "\n",
    "for i in data:\n",
    "    mean = sum(data) / long\n",
    "    \n",
    "if long % 2 == 0:\n",
    "    median = (data[(long//2) - 1] + data[long//2]) / 2\n",
    "else:\n",
    "    median = data[long//2]\n",
    "\n",
    "mode_dict = {}\n",
    "\n",
    "for i in data:\n",
    "    if not i in mode_dict:\n",
    "        mode_dict[i] = 1\n",
    "    else:\n",
    "        mode_dict[i] += 1 \n",
    "\n",
    "max = 0\n",
    "\n",
    "for i in mode_dict:\n",
    "    if mode_dict[i] > max:\n",
    "        max = mode_dict[i]\n",
    "        mode = i\n",
    "        \n",
    "print('Mean:', mean)\n",
    "print('Median:', median)\n",
    "print('Mode:', mode)"
   ]
  },
  {
   "cell_type": "code",
   "execution_count": 32,
   "metadata": {},
   "outputs": [
    {
     "name": "stdout",
     "output_type": "stream",
     "text": [
      "Variance: 5.82825484764543\n",
      "Standard Deviation: 2.4141778823536244\n"
     ]
    }
   ],
   "source": [
    "# Standard Deviation\n",
    "temp = 0\n",
    "\n",
    "for i in range(0, long):\n",
    "    temp = temp + ((data[i] - mean) ** 2)\n",
    "\n",
    "variance = temp / long\n",
    "sd = (variance) ** (1/2)\n",
    "\n",
    "print('Variance:', variance)\n",
    "print('Standard Deviation:', sd)"
   ]
  },
  {
   "cell_type": "code",
   "execution_count": 47,
   "metadata": {},
   "outputs": [],
   "source": [
    "# Validation\n",
    "import numpy as np\n",
    "from scipy import stats"
   ]
  },
  {
   "cell_type": "code",
   "execution_count": 48,
   "metadata": {},
   "outputs": [
    {
     "name": "stdout",
     "output_type": "stream",
     "text": [
      "4.473684210526316\n",
      "5.0\n",
      "5 => 4 times\n",
      "5.828254847645429\n",
      "2.414177882353624\n"
     ]
    }
   ],
   "source": [
    "print(np.mean(data))\n",
    "print(np.median(data))\n",
    "print(stats.mode(data).mode[0],'=>',stats.mode(data).count[0], 'times')\n",
    "print(np.var(data))\n",
    "print(np.std(data))"
   ]
  },
  {
   "cell_type": "code",
   "execution_count": null,
   "metadata": {},
   "outputs": [],
   "source": []
  }
 ],
 "metadata": {
  "kernelspec": {
   "display_name": "Python 3",
   "language": "python",
   "name": "python3"
  },
  "language_info": {
   "codemirror_mode": {
    "name": "ipython",
    "version": 3
   },
   "file_extension": ".py",
   "mimetype": "text/x-python",
   "name": "python",
   "nbconvert_exporter": "python",
   "pygments_lexer": "ipython3",
   "version": "3.8.10"
  }
 },
 "nbformat": 4,
 "nbformat_minor": 4
}
